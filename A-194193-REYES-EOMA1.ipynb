{
 "cells": [
  {
   "cell_type": "markdown",
   "metadata": {},
   "source": [
    "# End-of-Module Assessment 1"
   ]
  },
  {
   "cell_type": "markdown",
   "metadata": {},
   "source": [
    "## Instructions\n",
    "\n",
    "Please read and follow these instructions and specifications carefully.  \n",
    "\n",
    "1. This test is available from July 22 to 11:59 PM of July 27. We will only grade this test after July 27, and we will only grade it once.\n",
    "2. This test covers Modules 2 to 4. At this point in the course, you are expected to be familiar enough with Python to use the concepts from these modules with finesse. \n",
    "3. Unless otherwise specified, you are not allowed to use any non-standard (i.e., not in the standard library) modules for this test. We must be strict about this on principle. For example, if you use NumPy or Pandas without permission on problems which ask you to process data, we reserve the right to give your answer no credit. If you are unsure whether you are allowed to use a library, ask. (Yes, you can use the csv and json libraries.)\n",
    "4. Answers to problems that are hard-coded, done in another program such as Excel, or go against the learning outcomes in any other manner will be given no credit. If you are unsure whether your approach to a problem goes against the learning outcomes, ask.  \n",
    "5. You are encouraged to use only the provided code cell for each number. However, if you _need_ more cells, you may add them. If you do add more cells, make sure to label them very clearly. Code cells that are not clearly labelled will not be checked.\n",
    "6. If you are asked to output files, please write them all to the `output` folder, even if we forget to specify the ./output prefix.\n",
    "7. If we ask you to use an input file, please find the file in the appropriate section's folder. If it is not there, let us know.\n",
    "\n",
    "Some notes:\n",
    "1. Joe made some of these items, and Joben made the others. The items will likely have different conventions in the context/briefs. Please follow them carefully anyway.\n"
   ]
  },
  {
   "cell_type": "markdown",
   "metadata": {},
   "source": [
    "## Section 1: Rudimentary Data Processing"
   ]
  },
  {
   "cell_type": "markdown",
   "metadata": {},
   "source": [
    "### Context\n",
    "\n",
    "One extremely common form of data is the data shared between applications. Nowadays, when applications talk to each other, they send data in the form of JSON using Hypertext Transfer Protocol (HTTP). You will learn more about this in the next module.  \n",
    "\n",
    "For this section, you are to process data from Twitter's API. The results of several requests to Twitter's API about tweets with the keyword \"SONA\" have been pre-saved in a `.json` file called `./section1/tweets.json`. Please run the following cell to ensure that the file loads properly. "
   ]
  },
  {
   "cell_type": "code",
   "execution_count": null,
   "metadata": {},
   "outputs": [],
   "source": [
    "# execute this cell to load the file\n",
    "\n",
    "import json\n",
    "# If the tweets do not load properly, change this path as necessary.\n",
    "tweets_file = 'EOMA1./section1/tweets.json'\n",
    "\n",
    "with open(tweets_file, \"r\") as json_file:\n",
    "    tweets = json.loads(json_file.read())\n",
    "\n",
    "# Print contents of tweets to make sure things are okay.\n",
    "print(tweets)"
   ]
  },
  {
   "cell_type": "markdown",
   "metadata": {},
   "source": [
    "### 1.1  \n",
    "\n",
    "Print out the number of tweets."
   ]
  },
  {
   "cell_type": "code",
   "execution_count": null,
   "metadata": {},
   "outputs": [],
   "source": [
    "# CODE CELL\n",
    "\n",
    "# CODE START\n",
    "print(len(tweets))\n",
    "# CODE END"
   ]
  },
  {
   "cell_type": "markdown",
   "metadata": {},
   "source": [
    "### 1.2\n",
    "\n",
    "Create a list variable called `tweet_texts` that contains the text of the tweets contained in `tweets`.  \n",
    "\n",
    "Afterwards, print `tweet_texts`."
   ]
  },
  {
   "cell_type": "code",
   "execution_count": null,
   "metadata": {},
   "outputs": [],
   "source": [
    "# CODE CELL\n",
    "\n",
    "# CODE START\n",
    "tweet_texts = [x[\"full_text\"] for x in tweets]\n",
    "print(tweet_texts)\n",
    "# CODE END\n",
    "\n",
    "# The output should look like this."
   ]
  },
  {
   "cell_type": "markdown",
   "metadata": {},
   "source": [
    "### 1.3\n",
    "\n",
    "Remove duplicate tweet text lines and save the resulting (cleaned-up) list in the same variable `tweet_texts`.  "
   ]
  },
  {
   "cell_type": "code",
   "execution_count": null,
   "metadata": {},
   "outputs": [],
   "source": [
    "# CODE CELL\n",
    "\n",
    "# CODE START\n",
    "tweet_texts = list(set(tweet_texts))\n",
    "print(tweet_texts)\n",
    "# CODE END\n",
    "\n",
    "# The output should look like this."
   ]
  },
  {
   "cell_type": "markdown",
   "metadata": {},
   "source": [
    "### 1.4\n",
    "\n",
    "We will now perform a very simple word count on the texts.  \n",
    "\n",
    "We have provided a dictionary called `words_dict`. Your code in the next cell should process the tweets such that `words_dict` will contain key-value pairs where the key is a unique word and where the value is the number of times the word appears across all of the texts.  \n",
    "\n",
    "For each text, remove the characters contained in the following string:  \n",
    "\n",
    "`\"&$@[].,'#()-\\\"!?’_\"`  \n",
    "\n",
    "Please ignore the newline (`\\n`) character.  "
   ]
  },
  {
   "cell_type": "code",
   "execution_count": null,
   "metadata": {},
   "outputs": [],
   "source": [
    "# CODE CELL\n",
    "words_dict = {}\n",
    "\n",
    "remove_chars = \"&$@[].,'#()-\\\"!?’_\"\n",
    "\n",
    "# CODE START\n",
    "for i in tweet_texts:\n",
    "    unique = i\n",
    "    for r in remove_chars:\n",
    "        unique = unique.replace(r,\"\")\n",
    "    words = unique.split()\n",
    "    for w in words:\n",
    "        upper_w = w.upper()\n",
    "        words_dict.setdefault(upper_w,0)\n",
    "        words_dict[upper_w] = words_dict[upper_w] + 1\n",
    "# CODE END\n",
    "\n",
    "# Your output should look like this.\n",
    "print(words_dict)"
   ]
  },
  {
   "cell_type": "markdown",
   "metadata": {},
   "source": [
    "### 1.5\n",
    "\n",
    "Now, we would like to have a list of words and counts sorted by count in descending order.  \n",
    "\n",
    "Define a new list variable named `words_list` containing **tuples**, where each tuple is as follows:  \n",
    "\n",
    "`(word, count)`\n",
    "\n",
    "Print the contents of `words_list`.  \n",
    "\n",
    "Sample output is provided below."
   ]
  },
  {
   "cell_type": "code",
   "execution_count": null,
   "metadata": {},
   "outputs": [],
   "source": [
    "# CODE CELL\n",
    "\n",
    "# CODE START\n",
    "words_list = list(words_dict.items())\n",
    "# CODE END\n",
    "\n",
    "# The output should look like this. \n",
    "print(words_list)"
   ]
  },
  {
   "cell_type": "markdown",
   "metadata": {},
   "source": [
    "### 1.6\n",
    "\n",
    "Sort the list by count (which is the second element of each tuple) in descending (or reverse) order.  \n",
    "\n",
    "Print the contents of the newly-sorted list `words_list`.  \n",
    "\n",
    "Sample output shown below.  "
   ]
  },
  {
   "cell_type": "code",
   "execution_count": null,
   "metadata": {},
   "outputs": [],
   "source": [
    "# CODE CELL\n",
    "\n",
    "# CODE START\n",
    "words_list.sort(key=lambda x: x[1],reverse=True)\n",
    "# CODE END\n",
    "\n",
    "# The output should look like this.\n",
    "print(words_list)"
   ]
  },
  {
   "cell_type": "markdown",
   "metadata": {},
   "source": [
    "### 1.7\n",
    "\n",
    "Print out the top 5 words (based on count).  \n",
    "\n",
    "Take note of the formatting below (i.e. one line per print output).  \n",
    "\n",
    "Sample output shown below.  "
   ]
  },
  {
   "cell_type": "code",
   "execution_count": null,
   "metadata": {},
   "outputs": [],
   "source": [
    "# CODE CELL\n",
    "\n",
    "# CODE START\n",
    "for e in enumerate (words_list[0:5]):\n",
    "    print(e[1])\n",
    "# CODE END\n",
    "\n",
    "# The output should look like this."
   ]
  },
  {
   "cell_type": "markdown",
   "metadata": {},
   "source": [
    "### 1.8\n",
    "\n",
    "Write a new csv file `./output/wordcount.csv` with format like so:  \n",
    "\n",
    "`word,count`  \n",
    "`SONA,65`  \n",
    "`THE,55`  \n",
    "`RT,53`  \n",
    "`TO,36`  \n",
    "`SA,34`  \n",
    "`...`  "
   ]
  },
  {
   "cell_type": "code",
   "execution_count": null,
   "metadata": {},
   "outputs": [],
   "source": [
    "# CODE CELL\n",
    "import csv\n",
    "import json\n",
    "\n",
    "# CODE START\n",
    "with open(\"wordcount.csv\",\"w\", encoding=\"utf-8\") as f:\n",
    "    f.write(\"word,count\\n\")    \n",
    "    for w in words_list:\n",
    "        f.write(w[0]+\",\"+str(w[1])+\"\\n\")\n",
    "# CODE END"
   ]
  },
  {
   "cell_type": "markdown",
   "metadata": {},
   "source": [
    "Perform a `diff` or `fc` operation between your output file and the file named `wordcount-test.csv` which should be included in `section1`. Make sure there are no differences.  \n",
    "\n",
    "**IMPORTANT**: Please make sure that you submit wordcount.csv along with the rest of your files."
   ]
  },
  {
   "cell_type": "markdown",
   "metadata": {},
   "source": [
    "## Section 2: Reports for the Registrar"
   ]
  },
  {
   "cell_type": "markdown",
   "metadata": {},
   "source": [
    "### Context\n",
    "\n",
    "Data is rarely in the form in which you want it. In this section of the assessment, you are doing consulting work for Ateneo's Office of the Registrar. They managed to collect the enlistment data for 4410 students through a Google Form. The form was not designed in such a way that the collected data is immediately usable, so they hired you to process their raw data into more appropriate forms.  \n",
    "\n",
    "Please run the following cell to load the file."
   ]
  },
  {
   "cell_type": "code",
   "execution_count": 107,
   "metadata": {},
   "outputs": [
    {
     "name": "stdout",
     "output_type": "stream",
     "text": [
      "[{'enlistment': [{'course code': 'UK 60', 'section': 'A'}, {'course code': 'GF 24', 'section': 'B'}, {'course code': 'ME 40', 'section': 'B'}, {'course code': 'VY 44', 'section': 'D'}, {'course code': 'EN 94', 'section': 'B'}], 'id': '201001', 'paid': True, 'school': 'SOSE', 'year level': 2}, {'enlistment': [{'course code': 'EQ 61', 'section': 'D'}, {'course code': 'UZ 22', 'section': 'B'}, {'course code': 'KS 36', 'section': 'B'}, {'course code': 'VH 63', 'section': 'A'}, {'course code': 'IW 81', 'section': 'C'}], 'id': '211002', 'paid': True, 'school': 'JGSOM', 'year level': 1}, {'enlistment': [{'course code': 'WE 15', 'section': 'D'}, {'course code': 'ZP 68', 'section': 'A'}, {'course code': 'GI 78', 'section': 'A'}, {'course code': 'GK 72', 'section': 'C'}, {'course code': 'FA 24', 'section': 'D'}, {'course code': 'UJ 28', 'section': 'A'}], 'id': '201003', 'paid': True, 'school': 'JGSOM', 'year level': 2}]\n"
     ]
    }
   ],
   "source": [
    "# execute this cell to load the file\n",
    "import json\n",
    "\n",
    "file_path = 'EOMA1./section2/student-enrollment-data.json'\n",
    "\n",
    "with open(file_path, 'r') as f:\n",
    "    student_data = json.load(f)\n",
    "    \n",
    "# Print the first few items of this file to check that it worked properly\n",
    "# Please infer and understand the schema of this file.\n",
    "print(student_data[:3])"
   ]
  },
  {
   "cell_type": "markdown",
   "metadata": {},
   "source": [
    "### 2.1\n",
    "\n",
    "The first report the Registrar needs is a summary of all courses being offered. They want this report in the form of a **dictionary** whose keys are unique course codes and whose values are dictionaries with a single key-value pair describing the sections available for that course code.  \n",
    "\n",
    "Here is the schema of the desired output:  \n",
    "\n",
    "`{`  \n",
    "&nbsp;&nbsp;&nbsp;&nbsp;`course_code: {`  \n",
    "&nbsp;&nbsp;&nbsp;&nbsp;&nbsp;&nbsp;&nbsp;&nbsp;`\"sections\": [sections]`  \n",
    "&nbsp;&nbsp;&nbsp;&nbsp;`}`  \n",
    "`}`  \n",
    "\n",
    "A dictionary called `courses` is provided to you in the following cell. Using `student_data`, populate `courses` with the data the Registrar needs.  \n",
    "\n",
    "Dump this file as `./output/courses-output.json`.\n",
    "\n",
    "Additional specifications: \n",
    "1. Sort the list of sections alphabetically.\n",
    "\n",
    "Sample output is provided in `./section2/courses-sample-output.json`."
   ]
  },
  {
   "cell_type": "code",
   "execution_count": 108,
   "metadata": {},
   "outputs": [
    {
     "name": "stdout",
     "output_type": "stream",
     "text": [
      "{'UK 60': {'section': ['A']}, 'GF 24': {'section': ['A', 'B', 'C']}, 'ME 40': {'section': ['A', 'B', 'C']}, 'VY 44': {'section': ['A', 'B', 'C', 'D', 'E']}, 'EN 94': {'section': ['A', 'B', 'C', 'D', 'E', 'F']}, 'EQ 61': {'section': ['A', 'B', 'C', 'D']}, 'UZ 22': {'section': ['A', 'B', 'C']}, 'KS 36': {'section': ['A', 'B', 'C']}, 'VH 63': {'section': ['A', 'B', 'C', 'D', 'E', 'F']}, 'IW 81': {'section': ['A', 'B', 'C']}, 'WE 15': {'section': ['A', 'B', 'C', 'D']}, 'ZP 68': {'section': ['A']}, 'GI 78': {'section': ['A']}, 'GK 72': {'section': ['A', 'B', 'C', 'D', 'E', 'F']}, 'FA 24': {'section': ['A', 'B', 'C', 'D']}, 'UJ 28': {'section': ['A', 'B', 'C']}, 'ZJ 82': {'section': ['A', 'B', 'C', 'D', 'E']}, 'SN 88': {'section': ['A']}, 'TT 59': {'section': ['A', 'B']}, 'HK 84': {'section': ['A']}, 'HW 19': {'section': ['A']}, 'SE 79': {'section': ['A', 'B', 'C', 'D']}, 'BN 85': {'section': ['A', 'B', 'C', 'D', 'E', 'F']}, 'LV 41': {'section': ['A', 'B', 'C', 'D']}, 'OG 37': {'section': ['A', 'B', 'C', 'D']}, 'QR 51': {'section': ['A']}, 'TS 66': {'section': ['A']}, 'YB 54': {'section': ['A', 'B', 'C', 'D']}, 'YD 55': {'section': ['A', 'B', 'C', 'D']}, 'VC 62': {'section': ['A', 'B', 'C']}, 'FX 96': {'section': ['A']}, 'GM 72': {'section': ['A']}, 'GV 12': {'section': ['A']}, 'YS 74': {'section': ['A', 'B', 'C']}, 'MU 79': {'section': ['A', 'B']}, 'VS 18': {'section': ['A']}, 'AI 41': {'section': ['A', 'B', 'C', 'D', 'E']}, 'MC 25': {'section': ['A', 'B']}, 'FZ 18': {'section': ['A']}, 'YQ 49': {'section': ['A', 'B']}, 'AX 43': {'section': ['A']}, 'KC 22': {'section': ['A', 'B', 'C', 'D']}, 'KD 10': {'section': ['A', 'B', 'C']}, 'RT 81': {'section': ['A']}, 'UK 70': {'section': ['A', 'B', 'C', 'D', 'E']}, 'LJ 29': {'section': ['A', 'B']}, 'PG 71': {'section': ['A', 'B', 'C']}, 'KD 33': {'section': ['A']}, 'ZB 82': {'section': ['A']}}\n"
     ]
    }
   ],
   "source": [
    "# CODE CELL\n",
    "import json\n",
    "courses = {}\n",
    "\n",
    "# CODE START\n",
    "\n",
    "enlistment= [e[\"enlistment\"] for e in student_data]\n",
    "\n",
    "for e in enlistment:\n",
    "    for i in e:\n",
    "        course_code = i[\"course code\"]\n",
    "        section= i[\"section\"]\n",
    "        courses.setdefault(course_code, {\"section\":set()})\n",
    "        courses[course_code][\"section\"].add(section)\n",
    "\n",
    "for e in enlistment:\n",
    "    for i in e:\n",
    "        course_code = i[\"course code\"]\n",
    "        section= i[\"section\"]\n",
    "        courses[course_code][\"section\"]= sorted(list(courses[course_code][\"section\"]))\n",
    "    \n",
    "\n",
    "# CODE END\n",
    "\n",
    "# The output should look like this.\n",
    "print(courses)"
   ]
  },
  {
   "cell_type": "markdown",
   "metadata": {},
   "source": [
    "### 2.2\n",
    "\n",
    "The second report the Registrar needs is a _class list_ of every section. They want this report in the form of a **dictionary** whose keys are the course code and whose values are dictionaries describing the sections of that course code. Each section dictionary has two key-value pairs:  \n",
    "1. Key: \"section\"; Value: Section letter\n",
    "2. Key: \"class list\"; Value: [id numbers]  \n",
    "\n",
    "Here is the schema of the desired output:  \n",
    "`{`  \n",
    "&nbsp;&nbsp;&nbsp;&nbsp;`course_code: [{`  \n",
    "&nbsp;&nbsp;&nbsp;&nbsp;&nbsp;&nbsp;&nbsp;&nbsp;`\"section\": section_letter,`  \n",
    "&nbsp;&nbsp;&nbsp;&nbsp;&nbsp;&nbsp;&nbsp;&nbsp;`\"class list\": [id_numbers]`  \n",
    "&nbsp;&nbsp;&nbsp;&nbsp;`}]`  \n",
    "`}`  \n",
    "\n",
    "A dictionary called `class_lists` is provided to you. Using `student_data`, populate `class_lists` with the data that the Registrar needs.  \n",
    "\n",
    "Dump this file as `./output/class-lists.json`.  \n",
    "\n",
    "Additional specifications:\n",
    "1. Sort the list of ID numbers. No need to convert them to int, just sort them in place with `.sort()`.\n",
    "2. Do not reference the `courses` dictionary from Item 2.1 directly. This cell should be able to run independently of Item 2.1. You may, however, reuse your code by copy-pasting it here if you find that it will help.\n",
    "\n",
    "Sample output is provided in `./section2/class-lists-sample-output.json`."
   ]
  },
  {
   "cell_type": "code",
   "execution_count": 114,
   "metadata": {},
   "outputs": [
    {
     "ename": "AttributeError",
     "evalue": "'list' object has no attribute 'add'",
     "output_type": "error",
     "traceback": [
      "\u001b[1;31m---------------------------------------------------------------------------\u001b[0m",
      "\u001b[1;31mAttributeError\u001b[0m                            Traceback (most recent call last)",
      "\u001b[1;32m<ipython-input-114-6ae8506a8d89>\u001b[0m in \u001b[0;36m<module>\u001b[1;34m\u001b[0m\n\u001b[0;32m     13\u001b[0m         \u001b[0msection\u001b[0m\u001b[1;33m=\u001b[0m \u001b[0mi\u001b[0m\u001b[1;33m[\u001b[0m\u001b[1;34m\"section\"\u001b[0m\u001b[1;33m]\u001b[0m\u001b[1;33m\u001b[0m\u001b[1;33m\u001b[0m\u001b[0m\n\u001b[0;32m     14\u001b[0m         \u001b[0mcourses\u001b[0m\u001b[1;33m.\u001b[0m\u001b[0msetdefault\u001b[0m\u001b[1;33m(\u001b[0m\u001b[0mcourse_code\u001b[0m\u001b[1;33m,\u001b[0m \u001b[1;33m{\u001b[0m\u001b[1;34m\"section\"\u001b[0m\u001b[1;33m:\u001b[0m\u001b[0mset\u001b[0m\u001b[1;33m(\u001b[0m\u001b[1;33m)\u001b[0m\u001b[1;33m}\u001b[0m\u001b[1;33m)\u001b[0m\u001b[1;33m\u001b[0m\u001b[1;33m\u001b[0m\u001b[0m\n\u001b[1;32m---> 15\u001b[1;33m         \u001b[0mcourses\u001b[0m\u001b[1;33m[\u001b[0m\u001b[0mcourse_code\u001b[0m\u001b[1;33m]\u001b[0m\u001b[1;33m[\u001b[0m\u001b[1;34m\"section\"\u001b[0m\u001b[1;33m]\u001b[0m\u001b[1;33m.\u001b[0m\u001b[0madd\u001b[0m\u001b[1;33m(\u001b[0m\u001b[0msection\u001b[0m\u001b[1;33m)\u001b[0m\u001b[1;33m\u001b[0m\u001b[1;33m\u001b[0m\u001b[0m\n\u001b[0m\u001b[0;32m     16\u001b[0m \u001b[1;33m\u001b[0m\u001b[0m\n\u001b[0;32m     17\u001b[0m \u001b[1;32mfor\u001b[0m \u001b[0me\u001b[0m \u001b[1;32min\u001b[0m \u001b[0menlistment\u001b[0m\u001b[1;33m:\u001b[0m\u001b[1;33m\u001b[0m\u001b[1;33m\u001b[0m\u001b[0m\n",
      "\u001b[1;31mAttributeError\u001b[0m: 'list' object has no attribute 'add'"
     ]
    }
   ],
   "source": [
    "# CODE CELL\n",
    "import json\n",
    "class_lists = {}\n",
    "\n",
    "# CODE START\n",
    "\n",
    "\n",
    "enlistment= [e[\"enlistment\"] for e in student_data]\n",
    "\n",
    "for e in enlistment:\n",
    "    for i in e:\n",
    "        course_code = i[\"course code\"]\n",
    "        section= i[\"section\"]\n",
    "        courses.setdefault(course_code, {\"section\":set()})\n",
    "        courses[course_code][\"section\"].add(section)\n",
    "\n",
    "for e in enlistment:\n",
    "    for i in e:\n",
    "        course_code = i[\"course code\"]\n",
    "        section= i[\"section\"]\n",
    "        courses[course_code][\"section\"]= sorted(list(courses[course_code][\"section\"]))\n",
    "    \n",
    "for x in courses:\n",
    "    class_lists.setdefault(x,[])\n",
    "    for section in courses[x].get(\"section\"):\n",
    "        b=list()\n",
    "        class_lists[x].append({\"section\": section, \"class list\" : b })\n",
    "        for y in student_data:\n",
    "            num=y [\"id\"]\n",
    "            courses_taken= y [\"enlistment\"]\n",
    "            for c in courses_taken:\n",
    "                if c[\"course code\"]== x and c [\"section\"] ==section:\n",
    "                    b.append(num)\n",
    "                    b.sort()\n",
    "                    \n",
    "                    \n",
    "with open (\"EOMA1./output/class-lists.json.\",\"w\") as f:\n",
    "    json.dump(class_lists_f)\n",
    "# CODE END\n",
    "\n",
    "# The output should look like this.\n",
    "# This code is not supposed to be able to run in your notebook; it is fine to remove it if you will begin working.\n",
    "from pprint import pprint\n",
    "sample_keys = ['VH 63', 'EQ 61', 'LJ 29']\n",
    "sample_output = {k: class_lists[k] for k in sample_keys}\n",
    "pprint(sample_output)"
   ]
  },
  {
   "cell_type": "markdown",
   "metadata": {},
   "source": [
    "## Section 3: Payroll"
   ]
  },
  {
   "cell_type": "markdown",
   "metadata": {},
   "source": [
    "### Context\n",
    "\n",
    "A startup decides to avoid hiring regular employees for now. Instead, they have been engaging consultants and interns to support them in their current operations. There are not a lot of people, but preparation is tedious.\n",
    "\n",
    "All consultants and interns get paid at the end of the month.\n",
    "\n",
    "Interns are expected to render 20 hours of work each month. The actual number of hours worked by each intern is then prorated against the monthly fee stated in their contract. For example, if an intern works 20 hours, then the disbursement will be 100%. If another intern works for only 11, the payout will be 11/20 or 55%.\n",
    "\n",
    "If interns go overtime in the month, they get a premium of 200% on their hourly rate for anything in excess of 20 hours. The hourly rate is computed as follows:\n",
    "\n",
    "*hourly rate = contracted monthly fee / 20*\n",
    "\n",
    "The startup works on an honesty system. In lieu of timesheets, each intern is given a link to Google Forms where they specify their temporary company ID and the number of hours they rendered for the month. All entries are then logged in an associated Google Sheets document. Human Resources then is able to export the spreadsheet into a CSV that looks like so (for the month of July, 2021, as contained in the file **./section3/interns-timelog-july-2021.csv**):\n",
    "\n",
    "```\n",
    "id,hours_rendered\n",
    "2021001,20\n",
    "2021002,17\n",
    "2021003,16\n",
    "2021004,15\n",
    "2021005,16\n",
    "2021006,18\n",
    "2021007,17\n",
    "2021008,17\n",
    "2021009,15\n",
    "2021010,18\n",
    "2021011,16\n",
    "2021012,20\n",
    "2021013,18\n",
    "2021014,22\n",
    "2021015,20\n",
    "2021016,25\n",
    "2021017,20\n",
    "2021018,17\n",
    "2021019,20\n",
    "2021020,18\n",
    "```\n",
    "\n",
    "At the company's discretion, certain employees are given work-from-home (WFH) privileges. If an intern has been tagged to be given a WFH allowance, an additional P300 is given.\n",
    "\n",
    "In addition, the intern gets to designate one of two banks (BPI, BDO) for payroll crediting.\n",
    "\n",
    "The intern masterfile, saved from a central database as csv, is shown below:\n",
    "\n",
    "```\n",
    "id,bank,account_number,monthly_fee,wfh\n",
    "2021001,BPI,1093 5000 5001,4500,Y\n",
    "2021002,BPI,1093 5000 5002,3500,Y\n",
    "2021003,BPI,1093 5000 5003,4500,Y\n",
    "2021004,BPI,1093 5000 5004,4500,Y\n",
    "2021005,BPI,1093 5000 5005,6000,Y\n",
    "2021006,BPI,1093 5000 5006,4500,Y\n",
    "2021007,BPI,1093 5000 5007,5000,Y\n",
    "2021008,BPI,1093 5000 5008,4500,Y\n",
    "2021009,BPI,1093 5000 5009,4500,N\n",
    "2021010,BPI,1093 5000 5010,6000,N\n",
    "2021011,BPI,1093 5000 5011,4500,N\n",
    "2021012,BPI,1093 5000 5012,3500,N\n",
    "2021013,BPI,1093 5000 5013,4500,N\n",
    "2021014,BPI,1093 5000 5014,4500,N\n",
    "2021015,BPI,1093 5000 5015,5000,Y\n",
    "2021016,BPI,1093 5000 5016,4500,Y\n",
    "2021017,BPI,1093 5000 5017,6000,Y\n",
    "2021018,BPI,1093 5000 5018,3500,Y\n",
    "2021019,BPI,1093 5000 5019,4500,Y\n",
    "2021020,BPI,1093 5000 5020,4500,Y\n",
    "```\n",
    "\n",
    "Consultants are paid in full (with no accounting for time); however, their take home pay is their contracted monthly fee less 10%. For example, if one consultant's gross pay is P100,000, the amount to be disbursed is P100,000 less 10% = P90,000. For another consultant that insists on P100,000 as net amount, it will be the company's burden to shoulder the taxes; this arrangement is commonly known as \"grossing up\". In the case of gross-up, if the disbursement needs to preserve P100,000.00, the contracted monthly fee is P111,111.11.\n",
    "\n",
    "Similar to interns, certain consultants are provided WFH allowance.\n",
    "\n",
    "The consultant masterlist is shown below:\n",
    "\n",
    "```\n",
    "tin,bank,account_number,monthly_fee,wfh\n",
    "151-500-200-000,BPI,1093 5000 6001,100000,Y\n",
    "151-500-201-000,BPI,1093 5000 6002,50000,Y\n",
    "151-500-202-000,BDO,0078 0000 0001,111111.11,Y\n",
    "151-500-203-000,BPI,1093 5000 6004,100000,Y\n",
    "151-500-204-000,BPI,1093 5000 6005,65000,Y\n",
    "151-500-205-000,BPI,1093 5000 6006,130000,Y\n",
    "151-500-206-000,BDO,0078 0000 0002,50000,Y\n",
    "151-500-207-000,BDO,0078 0000 0003,45000,Y\n",
    "151-500-208-000,BPI,1093 5000 6007,45000,N\n",
    "151-500-209-000,BPI,1093 5000 6008,60000,N\n",
    "151-500-210-000,BPI,1093 5000 6009,45000,N\n",
    "```"
   ]
  },
  {
   "cell_type": "markdown",
   "metadata": {},
   "source": [
    "### 3.1"
   ]
  },
  {
   "cell_type": "markdown",
   "metadata": {},
   "source": [
    "#### 3.1.1\n",
    "\n",
    "Write a function **get_utilization** with an argument **hours_rendered** and returns utilization (not percentage)."
   ]
  },
  {
   "cell_type": "code",
   "execution_count": 12,
   "metadata": {},
   "outputs": [],
   "source": [
    "# CODE CELL\n",
    "\n",
    "# CODE START\n",
    "\n",
    "def get_utilization(hours_rendered):\n",
    "    if hours_rendered <= 20:\n",
    "        return hours_rendered / 20\n",
    "    else:\n",
    "        return 1.00\n",
    "# CODE END"
   ]
  },
  {
   "cell_type": "markdown",
   "metadata": {},
   "source": [
    "#### 3.1.2\n",
    "\n",
    "Write a function **get_pay** with four arguments: **monthly_fee**, **hours_rendered**, **overtime**, and **wfh_allowance**. It then returns the computed takehome pay as float. \n",
    "\n",
    "This function will presumably call **get_utilization**."
   ]
  },
  {
   "cell_type": "code",
   "execution_count": 13,
   "metadata": {},
   "outputs": [],
   "source": [
    "# CODE CELL\n",
    "\n",
    "# CODE START\n",
    "\n",
    "def get_pay(monthly_fee, hours_rendered, overtime_pay, wfh_allowance):\n",
    "    return monthly_fee * get_utilization(hours_rendered) + overtime_pay + wfh_allowance\n",
    "# CODE END"
   ]
  },
  {
   "cell_type": "markdown",
   "metadata": {},
   "source": [
    "#### 3.1.3\n",
    "\n",
    "Write a function **get_overtime_pay** that accepts **hours_rendered** and **monthly_fee** as parameters and then returns the amount of overtime to credit to the intern."
   ]
  },
  {
   "cell_type": "code",
   "execution_count": 96,
   "metadata": {},
   "outputs": [],
   "source": [
    "# CODE CELL\n",
    "\n",
    "# CODE START\n",
    "def get_overtime_pay(monthly_fee,hours_rendered):\n",
    "    if hours_rendered > 20:\n",
    "        return monthly_fee / 20 * (hours_rendered - 20) * 2\n",
    "    \n",
    "    else:\n",
    "        return 0.0\n",
    "# CODE END"
   ]
  },
  {
   "cell_type": "markdown",
   "metadata": {},
   "source": [
    "You may run the cell below to test your code."
   ]
  },
  {
   "cell_type": "code",
   "execution_count": 15,
   "metadata": {},
   "outputs": [
    {
     "data": {
      "text/plain": [
       "2250.0"
      ]
     },
     "execution_count": 15,
     "metadata": {},
     "output_type": "execute_result"
    }
   ],
   "source": [
    "# NON-EDITABLE CODE CELL\n",
    "# You may run this cell, but do not edit it!\n",
    "\n",
    "# Expected output: 2250.0\n",
    "get_overtime_pay(4500,25)\n"
   ]
  },
  {
   "cell_type": "markdown",
   "metadata": {},
   "source": [
    "### 3.2: For Interns"
   ]
  },
  {
   "cell_type": "markdown",
   "metadata": {},
   "source": [
    "#### 3.2.1\n",
    "\n",
    "Create a list variable named `raw_log` that contains dictionaries (or ordered dictionaries if you use the DictReader method of the Python csv module) for each entry in the time-and-attendance log file **./section3/interns-timelogs-july2021.csv**."
   ]
  },
  {
   "cell_type": "code",
   "execution_count": 80,
   "metadata": {},
   "outputs": [
    {
     "data": {
      "text/plain": [
       "[{'id': '2021001', 'hours_rendered': '20'},\n",
       " {'id': '2021002', 'hours_rendered': '17'},\n",
       " {'id': '2021003', 'hours_rendered': '16'},\n",
       " {'id': '2021004', 'hours_rendered': '15'},\n",
       " {'id': '2021005', 'hours_rendered': '16'},\n",
       " {'id': '2021006', 'hours_rendered': '18'},\n",
       " {'id': '2021007', 'hours_rendered': '17'},\n",
       " {'id': '2021008', 'hours_rendered': '17'},\n",
       " {'id': '2021009', 'hours_rendered': '15'},\n",
       " {'id': '2021010', 'hours_rendered': '18'},\n",
       " {'id': '2021011', 'hours_rendered': '16'},\n",
       " {'id': '2021012', 'hours_rendered': '20'},\n",
       " {'id': '2021013', 'hours_rendered': '18'},\n",
       " {'id': '2021014', 'hours_rendered': '22'},\n",
       " {'id': '2021015', 'hours_rendered': '20'},\n",
       " {'id': '2021016', 'hours_rendered': '25'},\n",
       " {'id': '2021017', 'hours_rendered': '20'},\n",
       " {'id': '2021018', 'hours_rendered': '17'},\n",
       " {'id': '2021019', 'hours_rendered': '20'},\n",
       " {'id': '2021020', 'hours_rendered': '18'}]"
      ]
     },
     "execution_count": 80,
     "metadata": {},
     "output_type": "execute_result"
    }
   ],
   "source": [
    "# CODE CELL\n",
    "import csv\n",
    "\n",
    "# CODE START\n",
    "\n",
    "raw_log = []\n",
    "\n",
    "with open(\"EOMA1./section3/interns-timelogs-july2021.csv\",\"r\") as csvfile:\n",
    "    csvreader=csv.DictReader(csvfile)\n",
    "    for row in csvreader:        \n",
    "        raw_log.append(dict(row))\n",
    "# CODE END\n",
    "        \n",
    "# sample dump of raw_log in interactive mode\n",
    "raw_log"
   ]
  },
  {
   "cell_type": "markdown",
   "metadata": {},
   "source": [
    "#### 3.2.2\n",
    "\n",
    "To retrieve details about individual interns quickly, it's best that we store intern data in a dictionary. This way, we simply lookup the details of the intern by key (in this case, the **id**).\n",
    "\n",
    "Create a dictionary variable named **interns_master_dict** that contains dictionaries for each entry in the intern master file file **./section3/interns-masterlist.csv**."
   ]
  },
  {
   "cell_type": "code",
   "execution_count": 81,
   "metadata": {},
   "outputs": [
    {
     "data": {
      "text/plain": [
       "{'2021001': {'bank': 'BPI',\n",
       "  'account_number': '1093 5000 5001',\n",
       "  'monthly_fee': '4500',\n",
       "  'wfh': 'Y'},\n",
       " '2021002': {'bank': 'BPI',\n",
       "  'account_number': '1093 5000 5002',\n",
       "  'monthly_fee': '3500',\n",
       "  'wfh': 'Y'},\n",
       " '2021003': {'bank': 'BPI',\n",
       "  'account_number': '1093 5000 5003',\n",
       "  'monthly_fee': '4500',\n",
       "  'wfh': 'Y'},\n",
       " '2021004': {'bank': 'BPI',\n",
       "  'account_number': '1093 5000 5004',\n",
       "  'monthly_fee': '4500',\n",
       "  'wfh': 'Y'},\n",
       " '2021005': {'bank': 'BPI',\n",
       "  'account_number': '1093 5000 5005',\n",
       "  'monthly_fee': '6000',\n",
       "  'wfh': 'Y'},\n",
       " '2021006': {'bank': 'BPI',\n",
       "  'account_number': '1093 5000 5006',\n",
       "  'monthly_fee': '4500',\n",
       "  'wfh': 'Y'},\n",
       " '2021007': {'bank': 'BPI',\n",
       "  'account_number': '1093 5000 5007',\n",
       "  'monthly_fee': '5000',\n",
       "  'wfh': 'Y'},\n",
       " '2021008': {'bank': 'BPI',\n",
       "  'account_number': '1093 5000 5008',\n",
       "  'monthly_fee': '4500',\n",
       "  'wfh': 'Y'},\n",
       " '2021009': {'bank': 'BPI',\n",
       "  'account_number': '1093 5000 5009',\n",
       "  'monthly_fee': '4500',\n",
       "  'wfh': 'N'},\n",
       " '2021010': {'bank': 'BPI',\n",
       "  'account_number': '1093 5000 5010',\n",
       "  'monthly_fee': '6000',\n",
       "  'wfh': 'N'},\n",
       " '2021011': {'bank': 'BPI',\n",
       "  'account_number': '1093 5000 5011',\n",
       "  'monthly_fee': '4500',\n",
       "  'wfh': 'N'},\n",
       " '2021012': {'bank': 'BPI',\n",
       "  'account_number': '1093 5000 5012',\n",
       "  'monthly_fee': '3500',\n",
       "  'wfh': 'N'},\n",
       " '2021013': {'bank': 'BPI',\n",
       "  'account_number': '1093 5000 5013',\n",
       "  'monthly_fee': '4500',\n",
       "  'wfh': 'N'},\n",
       " '2021014': {'bank': 'BPI',\n",
       "  'account_number': '1093 5000 5014',\n",
       "  'monthly_fee': '4500',\n",
       "  'wfh': 'N'},\n",
       " '2021015': {'bank': 'BPI',\n",
       "  'account_number': '1093 5000 5015',\n",
       "  'monthly_fee': '5000',\n",
       "  'wfh': 'Y'},\n",
       " '2021016': {'bank': 'BPI',\n",
       "  'account_number': '1093 5000 5016',\n",
       "  'monthly_fee': '4500',\n",
       "  'wfh': 'Y'},\n",
       " '2021017': {'bank': 'BPI',\n",
       "  'account_number': '1093 5000 5017',\n",
       "  'monthly_fee': '6000',\n",
       "  'wfh': 'Y'},\n",
       " '2021018': {'bank': 'BPI',\n",
       "  'account_number': '1093 5000 5018',\n",
       "  'monthly_fee': '3500',\n",
       "  'wfh': 'Y'},\n",
       " '2021019': {'bank': 'BPI',\n",
       "  'account_number': '1093 5000 5019',\n",
       "  'monthly_fee': '4500',\n",
       "  'wfh': 'Y'},\n",
       " '2021020': {'bank': 'BPI',\n",
       "  'account_number': '1093 5000 5020',\n",
       "  'monthly_fee': '4500',\n",
       "  'wfh': 'Y'}}"
      ]
     },
     "execution_count": 81,
     "metadata": {},
     "output_type": "execute_result"
    }
   ],
   "source": [
    "# CODE CELL\n",
    "\n",
    "# CODE START\n",
    "\n",
    "interns_master_dict = {}\n",
    "\n",
    "with open(\"EOMA1./section3/interns_masterlist.csv\",\"r\") as f:\n",
    "    f_reader=csv.DictReader(f)\n",
    "    for row in f_reader:        \n",
    "        interns_master_dict.setdefault(row.pop(\"id\"),dict(row))\n",
    "\n",
    "# CODE END\n",
    "\n",
    "# sample dump of raw_log in interactive mode\n",
    "interns_master_dict"
   ]
  },
  {
   "cell_type": "markdown",
   "metadata": {},
   "source": [
    "#### 3.2.3\n",
    "\n",
    "Create a new list variable **interns_payroll** based on raw_logs but with an additional key takehome_pay for each dictionary entry."
   ]
  },
  {
   "cell_type": "code",
   "execution_count": 105,
   "metadata": {},
   "outputs": [
    {
     "data": {
      "text/plain": [
       "[{'id': '2021001',\n",
       "  'hours_rendered': '20',\n",
       "  'monthly_fee': '4500',\n",
       "  'prorated_pay': 4500.0,\n",
       "  'overtime_pay': 0.0,\n",
       "  'wfh_allowance': 300,\n",
       "  'takehome_pay': 4800.0},\n",
       " {'id': '2021002',\n",
       "  'hours_rendered': '17',\n",
       "  'monthly_fee': '4500',\n",
       "  'prorated_pay': 3825.0,\n",
       "  'overtime_pay': 0.0,\n",
       "  'wfh_allowance': 300,\n",
       "  'takehome_pay': 4125.0},\n",
       " {'id': '2021003',\n",
       "  'hours_rendered': '16',\n",
       "  'monthly_fee': '4500',\n",
       "  'prorated_pay': 3600.0,\n",
       "  'overtime_pay': 0.0,\n",
       "  'wfh_allowance': 300,\n",
       "  'takehome_pay': 3900.0},\n",
       " {'id': '2021004',\n",
       "  'hours_rendered': '15',\n",
       "  'monthly_fee': '4500',\n",
       "  'prorated_pay': 3375.0,\n",
       "  'overtime_pay': 0.0,\n",
       "  'wfh_allowance': 300,\n",
       "  'takehome_pay': 3675.0},\n",
       " {'id': '2021005',\n",
       "  'hours_rendered': '16',\n",
       "  'monthly_fee': '4500',\n",
       "  'prorated_pay': 3600.0,\n",
       "  'overtime_pay': 0.0,\n",
       "  'wfh_allowance': 300,\n",
       "  'takehome_pay': 3900.0},\n",
       " {'id': '2021006',\n",
       "  'hours_rendered': '18',\n",
       "  'monthly_fee': '4500',\n",
       "  'prorated_pay': 4050.0,\n",
       "  'overtime_pay': 0.0,\n",
       "  'wfh_allowance': 300,\n",
       "  'takehome_pay': 4350.0},\n",
       " {'id': '2021007',\n",
       "  'hours_rendered': '17',\n",
       "  'monthly_fee': '4500',\n",
       "  'prorated_pay': 3825.0,\n",
       "  'overtime_pay': 0.0,\n",
       "  'wfh_allowance': 300,\n",
       "  'takehome_pay': 4125.0},\n",
       " {'id': '2021008',\n",
       "  'hours_rendered': '17',\n",
       "  'monthly_fee': '4500',\n",
       "  'prorated_pay': 3825.0,\n",
       "  'overtime_pay': 0.0,\n",
       "  'wfh_allowance': 300,\n",
       "  'takehome_pay': 4125.0},\n",
       " {'id': '2021009',\n",
       "  'hours_rendered': '15',\n",
       "  'monthly_fee': '4500',\n",
       "  'prorated_pay': 3375.0,\n",
       "  'overtime_pay': 0.0,\n",
       "  'wfh_allowance': 300,\n",
       "  'takehome_pay': 3675.0},\n",
       " {'id': '2021010',\n",
       "  'hours_rendered': '18',\n",
       "  'monthly_fee': '4500',\n",
       "  'prorated_pay': 4050.0,\n",
       "  'overtime_pay': 0.0,\n",
       "  'wfh_allowance': 300,\n",
       "  'takehome_pay': 4350.0},\n",
       " {'id': '2021011',\n",
       "  'hours_rendered': '16',\n",
       "  'monthly_fee': '4500',\n",
       "  'prorated_pay': 3600.0,\n",
       "  'overtime_pay': 0.0,\n",
       "  'wfh_allowance': 300,\n",
       "  'takehome_pay': 3900.0},\n",
       " {'id': '2021012',\n",
       "  'hours_rendered': '20',\n",
       "  'monthly_fee': '4500',\n",
       "  'prorated_pay': 4500.0,\n",
       "  'overtime_pay': 0.0,\n",
       "  'wfh_allowance': 300,\n",
       "  'takehome_pay': 4800.0},\n",
       " {'id': '2021013',\n",
       "  'hours_rendered': '18',\n",
       "  'monthly_fee': '4500',\n",
       "  'prorated_pay': 4050.0,\n",
       "  'overtime_pay': 0.0,\n",
       "  'wfh_allowance': 300,\n",
       "  'takehome_pay': 4350.0},\n",
       " {'id': '2021014',\n",
       "  'hours_rendered': '22',\n",
       "  'monthly_fee': '4500',\n",
       "  'prorated_pay': 4500.0,\n",
       "  'overtime_pay': 900.0,\n",
       "  'wfh_allowance': 300,\n",
       "  'takehome_pay': 5700.0},\n",
       " {'id': '2021015',\n",
       "  'hours_rendered': '20',\n",
       "  'monthly_fee': '4500',\n",
       "  'prorated_pay': 4500.0,\n",
       "  'overtime_pay': 0.0,\n",
       "  'wfh_allowance': 300,\n",
       "  'takehome_pay': 4800.0},\n",
       " {'id': '2021016',\n",
       "  'hours_rendered': '25',\n",
       "  'monthly_fee': '4500',\n",
       "  'prorated_pay': 4500.0,\n",
       "  'overtime_pay': 2250.0,\n",
       "  'wfh_allowance': 300,\n",
       "  'takehome_pay': 7050.0},\n",
       " {'id': '2021017',\n",
       "  'hours_rendered': '20',\n",
       "  'monthly_fee': '4500',\n",
       "  'prorated_pay': 4500.0,\n",
       "  'overtime_pay': 0.0,\n",
       "  'wfh_allowance': 300,\n",
       "  'takehome_pay': 4800.0},\n",
       " {'id': '2021018',\n",
       "  'hours_rendered': '17',\n",
       "  'monthly_fee': '4500',\n",
       "  'prorated_pay': 3825.0,\n",
       "  'overtime_pay': 0.0,\n",
       "  'wfh_allowance': 300,\n",
       "  'takehome_pay': 4125.0},\n",
       " {'id': '2021019',\n",
       "  'hours_rendered': '20',\n",
       "  'monthly_fee': '4500',\n",
       "  'prorated_pay': 4500.0,\n",
       "  'overtime_pay': 0.0,\n",
       "  'wfh_allowance': 300,\n",
       "  'takehome_pay': 4800.0},\n",
       " {'id': '2021020',\n",
       "  'hours_rendered': '18',\n",
       "  'monthly_fee': '4500',\n",
       "  'prorated_pay': 4050.0,\n",
       "  'overtime_pay': 0.0,\n",
       "  'wfh_allowance': 300,\n",
       "  'takehome_pay': 4350.0}]"
      ]
     },
     "execution_count": 105,
     "metadata": {},
     "output_type": "execute_result"
    }
   ],
   "source": [
    "# CODE CELL\n",
    "\n",
    "# CODE START\n",
    "interns_payroll= raw_log\n",
    "for i in raw_log:\n",
    "    for k in interns_master_dict:\n",
    "        i[\"monthly_fee\"]= interns_master_dict[k][\"monthly_fee\"]\n",
    "        i[\"prorated_pay\"]= float(interns_master_dict[k][\"monthly_fee\"]) * get_utilization(float(i[\"hours_rendered\"]))\n",
    "        i[\"overtime_pay\"]= get_overtime_pay ( float(interns_master_dict[k][\"monthly_fee\"]) ,float(i[\"hours_rendered\"]))\n",
    "        if interns_master_dict[k][\"wfh\"] ==\"Y\" :\n",
    "            i[\"wfh_allowance\"]= 300\n",
    "            i[\"takehome_pay\"]= get_pay(float(interns_master_dict[k][\"monthly_fee\"]), float(i[\"hours_rendered\"]) , i[\"overtime_pay\"] , i[\"wfh_allowance\"] )\n",
    "        elif interns_master_dict[k][\"wfh\"] ==\"N\" :\n",
    "            i[\"takehome_pay\"]= get_pay(float(interns_master_dict[k][\"monthly_fee\"]), float(i[\"hours_rendered\"]) , i[\"overtime_pay\"] , 0.0 )\n",
    "        \n",
    "            \n",
    "\n",
    "\n",
    "# CODE END\n",
    "                 \n",
    "# sample dump of payroll in interactive mode\n",
    "interns_payroll"
   ]
  },
  {
   "cell_type": "markdown",
   "metadata": {},
   "source": [
    "#### 3.2.4\n",
    "\n",
    "Looping through the new list variable **payroll**, generate an intern payslip print spool file for the month of July. The time logs (as illustrated above) may be found in the file **./section3/interns-timelog-july2021.csv**.\n",
    "\n",
    "The output must be saved in a file named **./output/interns-payslips-july2021.txt**. The output looks like the following:\n",
    "\n",
    "```\n",
    "Payroll Date   : July 31, 2021\n",
    "ID             : 2021001\n",
    "Monthly Fee       : 4500\n",
    "------------------------------\n",
    "Hours Rendered : 20\n",
    "------------------------------\n",
    "Prorated Pay   : 4500.0\n",
    "Overtime Pay   : 0.0\n",
    "WFH Allowance  : 300\n",
    "Takehome Pay   : 4800.0\n",
    "\n",
    "______________________________\n",
    "Payroll Date   : July 31, 2021\n",
    "ID             : 2021002\n",
    "Monthly Fee       : 3500\n",
    "------------------------------\n",
    "Hours Rendered : 17\n",
    "------------------------------\n",
    "Prorated Pay   : 2975.0\n",
    "Overtime Pay   : 0.0\n",
    "WFH Allowance  : 300\n",
    "Takehome Pay   : 3275.0\n",
    "\n",
    "...\n",
    "\n",
    "______________________________\n",
    "Payroll Date   : July 31, 2021\n",
    "ID             : 2021013\n",
    "Monthly Fee       : 4500\n",
    "------------------------------\n",
    "Hours Rendered : 18\n",
    "------------------------------\n",
    "Prorated Pay   : 4050.0\n",
    "Overtime Pay   : 0.0\n",
    "Takehome Pay   : 4050.0\n",
    "\n",
    "______________________________\n",
    "Payroll Date   : July 31, 2021\n",
    "ID             : 2021014\n",
    "Monthly Fee       : 4500\n",
    "------------------------------\n",
    "Hours Rendered : 22\n",
    "------------------------------\n",
    "Prorated Pay   : 4950.0\n",
    "Overtime Pay   : 900.0\n",
    "Takehome Pay   : 5400.0\n",
    "\n",
    "...\n",
    "\n",
    "______________________________\n",
    "Payroll Date   : July 31, 2021\n",
    "ID             : 2021019\n",
    "Monthly Fee       : 4500\n",
    "------------------------------\n",
    "Hours Rendered : 20\n",
    "------------------------------\n",
    "Prorated Pay   : 4500.0\n",
    "Overtime Pay   : 0.0\n",
    "WFH Allowance  : 300\n",
    "Takehome Pay   : 4800.0\n",
    "\n",
    "______________________________\n",
    "Payroll Date   : July 31, 2021\n",
    "ID             : 2021020\n",
    "Monthly Fee       : 4500\n",
    "------------------------------\n",
    "Hours Rendered : 18\n",
    "------------------------------\n",
    "Prorated Pay   : 4050.0\n",
    "Overtime Pay   : 0.0\n",
    "WFH Allowance  : 300\n",
    "Takehome Pay   : 4350.0\n",
    "\n",
    "\n",
    "...\n",
    "\n",
    "______________________________\n",
    "Payroll Date   : July 31, 2020\n",
    "ID             : 2021009\n",
    "Base Pay       : 4,500\n",
    "------------------------------\n",
    "Hours Rendered : 15\n",
    "Takehome Pay   : 3,375.00\n",
    "...\n",
    "\n",
    "```\n",
    "\n",
    "**VERY IMPORTANT:** If the intern does not have a WFH allowance arrangement, **DO NOT** print out the line 'WFH Allowance'!!! The company does not want interns to ask about that if they see that line since it will open a can of worms."
   ]
  },
  {
   "cell_type": "code",
   "execution_count": 113,
   "metadata": {},
   "outputs": [
    {
     "ename": "FileNotFoundError",
     "evalue": "[Errno 2] No such file or directory: './output/interns-payslips-july2021.txt'",
     "output_type": "error",
     "traceback": [
      "\u001b[1;31m---------------------------------------------------------------------------\u001b[0m",
      "\u001b[1;31mFileNotFoundError\u001b[0m                         Traceback (most recent call last)",
      "\u001b[1;32m<ipython-input-113-aa3f99bed6ee>\u001b[0m in \u001b[0;36m<module>\u001b[1;34m\u001b[0m\n\u001b[0;32m      6\u001b[0m \u001b[1;31m# CODE START\u001b[0m\u001b[1;33m\u001b[0m\u001b[1;33m\u001b[0m\u001b[1;33m\u001b[0m\u001b[0m\n\u001b[0;32m      7\u001b[0m \u001b[1;33m\u001b[0m\u001b[0m\n\u001b[1;32m----> 8\u001b[1;33m \u001b[1;32mwith\u001b[0m \u001b[0mopen\u001b[0m \u001b[1;33m(\u001b[0m\u001b[0mfilename\u001b[0m\u001b[1;33m,\u001b[0m \u001b[1;34m\"w\"\u001b[0m\u001b[1;33m)\u001b[0m \u001b[1;32mas\u001b[0m \u001b[0mg\u001b[0m\u001b[1;33m:\u001b[0m\u001b[1;33m\u001b[0m\u001b[1;33m\u001b[0m\u001b[0m\n\u001b[0m\u001b[0;32m      9\u001b[0m     \u001b[1;32mfor\u001b[0m \u001b[0mi\u001b[0m \u001b[1;32min\u001b[0m \u001b[0minterns_payroll\u001b[0m\u001b[1;33m:\u001b[0m\u001b[1;33m\u001b[0m\u001b[1;33m\u001b[0m\u001b[0m\n\u001b[0;32m     10\u001b[0m         \u001b[0mg\u001b[0m\u001b[1;33m.\u001b[0m\u001b[0mwrite\u001b[0m\u001b[1;33m(\u001b[0m\u001b[1;34mf\"Payroll Date     : {payroll_run_date}\\n\"\u001b[0m\u001b[1;33m)\u001b[0m\u001b[1;33m\u001b[0m\u001b[1;33m\u001b[0m\u001b[0m\n",
      "\u001b[1;31mFileNotFoundError\u001b[0m: [Errno 2] No such file or directory: './output/interns-payslips-july2021.txt'"
     ]
    }
   ],
   "source": [
    "# CODE CELL\n",
    "import csv\n",
    "\n",
    "filename = \"./output/interns-payslips-july2021.txt\"\n",
    "payroll_run_date = \"July 31, 2021\"\n",
    "# CODE START\n",
    "\n",
    "with open (filename, \"w\") as g:\n",
    "    for i in interns_payroll:\n",
    "        g.write(f\"Payroll Date     : {payroll_run_date}\\n\")\n",
    "        g.write(\"ID                 : \"+ i[\"id\"]+ \"\\n\")\n",
    "        g.write(\"Monthly fee        : \"+ i[\"monthly_fee\"] + \"\\n\")\n",
    "        g.write(\"-\"*30+\"\\n\")\n",
    "        g.write(\"Hours Rendered     : \"+ i[\"hours_rendered\"] + \"\\n\")\n",
    "        g.write(\"-\"*30+\"\\n\")\n",
    "        g.write(\"Prorated Pay    : \"+ i[\"prorated_pay\"] + \"\\n\")\n",
    "        g.write(\"Overtime Pay    : \"+ i[\"overtime_pay\"] + \"\\n\")\n",
    "    \n",
    "        \n",
    "\n",
    "# CODE END"
   ]
  },
  {
   "cell_type": "code",
   "execution_count": null,
   "metadata": {},
   "outputs": [],
   "source": [
    "# NON-EDITABLE CODE CELL\n",
    "# You may run this cell, but do not edit it.\n",
    "\n",
    "# See the output of your file\n",
    "!cat ./output/interns-payslips-july2021.txt"
   ]
  },
  {
   "cell_type": "markdown",
   "metadata": {},
   "source": [
    "### 3.3: For Consultants"
   ]
  },
  {
   "cell_type": "markdown",
   "metadata": {},
   "source": [
    "Create a regular CSV named **./output/consultants_payouts_july2021.csv** containing consultant payout amounts. Use **./section3/consultants_masterlist.csv** as basis for the amounts, then don't forget to deduct 10% withholding tax.\n",
    "\n",
    "```\n",
    "tin,net_pay\n",
    "151-500-200-000,90000.00\n",
    "...\n",
    "151-500-202-000,100000.00\n",
    "...\n",
    "\n",
    "```"
   ]
  },
  {
   "cell_type": "markdown",
   "metadata": {},
   "source": [
    "Create a dictionary **consultants_master_dict** containing lookups for consultants."
   ]
  },
  {
   "cell_type": "code",
   "execution_count": null,
   "metadata": {},
   "outputs": [],
   "source": [
    "# CODE CELL\n",
    "\n",
    "consultants_master_dict = {}\n",
    "# CODE START\n",
    "\n",
    "# CODE END\n",
    "consultants_master_dict"
   ]
  },
  {
   "cell_type": "markdown",
   "metadata": {},
   "source": [
    "Unlike the interns, we don't need to give consultants payslips. However, it would be easier to run \"payroll\" for consultants and store the results in a staging file. Run the consultants' \"payroll\" by keeping the results in a list variable called **consultants_payroll**. Each element of this list is based on a corresponding role in **./section3/consultants_masterlist.csv**. To make it easier, create a **consultants_fees** list variable by reading from this file. \n",
    "\n",
    "Then, generate a consultant payout file named **./output/consultants_payouts_july2021.csv**."
   ]
  },
  {
   "cell_type": "code",
   "execution_count": null,
   "metadata": {},
   "outputs": [],
   "source": [
    "# CODE CELL\n",
    "consultants_fees = []\n",
    "\n",
    "input_file = \"./section3/consultants_masterlist.csv\"\n",
    "# CODE START\n",
    "\n",
    "# CODE END\n",
    "\n",
    "# dump output\n",
    "consultants_fees"
   ]
  },
  {
   "cell_type": "code",
   "execution_count": null,
   "metadata": {},
   "outputs": [],
   "source": [
    "# CODE CELL\n",
    "consultants_payroll = []\n",
    "\n",
    "# CODE START\n",
    "\n",
    "# CODE END\n",
    "\n",
    "# sample dump of raw_log in interactive mode\n",
    "consultants_payroll"
   ]
  },
  {
   "cell_type": "markdown",
   "metadata": {},
   "source": [
    "To check if your payout file contents are correct, run `cat` (if using MacOS) or `type` (if using Windows). Don't forget the \"!\" character before the command. Replace `cat` with `type` if you are on Windows."
   ]
  },
  {
   "cell_type": "code",
   "execution_count": null,
   "metadata": {},
   "outputs": [],
   "source": [
    "!cat ./output/consultants_payouts_july2021.csv"
   ]
  },
  {
   "cell_type": "markdown",
   "metadata": {},
   "source": [
    "### 3.4: Bank Credit Advise"
   ]
  },
  {
   "cell_type": "markdown",
   "metadata": {},
   "source": [
    "\n",
    "\n",
    "**B. Bank Credit Advise**\n",
    "\n",
    "Generate a credit advise file each for BPI and BDO covering interns and consultants. The files must be named **./output/su-bpi-payment-advise.csv** and **./output/su-bdo-payment-advise.csv** respectively and should look like the following:\n",
    "\n",
    "```\n",
    "account_number,amount\n",
    "109350005001,4800.0\n",
    "109350005002,3275.0\n",
    "...\n",
    "109350005003,3375.0\n",
    "...\n",
    "109350006001,9000\n",
    "```\n",
    "\n"
   ]
  },
  {
   "cell_type": "code",
   "execution_count": null,
   "metadata": {},
   "outputs": [],
   "source": [
    "# CODE CELL\n",
    "bpi_advise = []\n",
    "bdo_advise = []\n",
    "\n",
    "# CODE START\n",
    "\n",
    "# CODE END"
   ]
  },
  {
   "cell_type": "code",
   "execution_count": null,
   "metadata": {},
   "outputs": [],
   "source": [
    "bpi_advise"
   ]
  },
  {
   "cell_type": "code",
   "execution_count": null,
   "metadata": {},
   "outputs": [],
   "source": [
    "bdo_advise"
   ]
  },
  {
   "cell_type": "markdown",
   "metadata": {},
   "source": [
    "To check if your file outputs are correct, run either cat (on MacOS) or type (on Windows) below. Just replace `cat` with `type` if you're using Windows."
   ]
  },
  {
   "cell_type": "code",
   "execution_count": null,
   "metadata": {},
   "outputs": [],
   "source": [
    "!cat ./output/su-bpi-payment-advise.csv"
   ]
  },
  {
   "cell_type": "code",
   "execution_count": null,
   "metadata": {},
   "outputs": [],
   "source": [
    "!cat ./output/su-bdo-payment-advise.csv"
   ]
  },
  {
   "cell_type": "code",
   "execution_count": null,
   "metadata": {},
   "outputs": [],
   "source": []
  }
 ],
 "metadata": {
  "kernelspec": {
   "display_name": "Python 3",
   "language": "python",
   "name": "python3"
  },
  "language_info": {
   "codemirror_mode": {
    "name": "ipython",
    "version": 3
   },
   "file_extension": ".py",
   "mimetype": "text/x-python",
   "name": "python",
   "nbconvert_exporter": "python",
   "pygments_lexer": "ipython3",
   "version": "3.7.6"
  }
 },
 "nbformat": 4,
 "nbformat_minor": 5
}
